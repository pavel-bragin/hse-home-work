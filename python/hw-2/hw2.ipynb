{
 "cells": [
  {
   "cell_type": "code",
   "execution_count": 5,
   "id": "e2d4748f",
   "metadata": {},
   "outputs": [
    {
     "name": "stdout",
     "output_type": "stream",
     "text": [
      "2002-10-02 00:00:00\n",
      "2013-10-11 00:00:00\n",
      "1977-08-18 00:00:00\n"
     ]
    }
   ],
   "source": [
    "from datetime import datetime, timedelta\n",
    "\n",
    "# Задание 1\n",
    "\n",
    "# The Moscow Times - Wednesday, October 2, 2002\n",
    "moscow_times_date = \"Wednesday, October 2, 2002\"\n",
    "moscow_times_format = \"%A, %B %d, %Y\"\n",
    "moscow_times_datetime = datetime.strptime(moscow_times_date, moscow_times_format)\n",
    "\n",
    "# The Guardian - Friday, 11.10.13\n",
    "guardian_date = \"Friday, 11.10.13\"\n",
    "guardian_format = \"%A, %d.%m.%y\"\n",
    "guardian_datetime = datetime.strptime(guardian_date, guardian_format)\n",
    "\n",
    "# Daily News - Thursday, 18 August 1977\n",
    "daily_news_date = \"Thursday, 18 August 1977\"\n",
    "daily_news_format = \"%A, %d %B %Y\"\n",
    "daily_news_datetime = datetime.strptime(daily_news_date, daily_news_format)\n",
    "\n",
    "print(moscow_times_datetime)\n",
    "print(guardian_datetime)\n",
    "print(daily_news_datetime)\n",
    "\n",
    "\n"
   ]
  },
  {
   "cell_type": "code",
   "execution_count": 6,
   "id": "bf0b60ee",
   "metadata": {},
   "outputs": [
    {
     "name": "stdout",
     "output_type": "stream",
     "text": [
      "['2022-01-01', '2022-01-02', '2022-01-03']\n",
      "[]\n",
      "[]\n"
     ]
    }
   ],
   "source": [
    "# Задание 2\n",
    "def date_range(start_date, end_date):\n",
    "    try:\n",
    "        start = datetime.strptime(start_date, \"%Y-%m-%d\")\n",
    "        end = datetime.strptime(end_date, \"%Y-%m-%d\")\n",
    "        \n",
    "        if start > end:\n",
    "            return []\n",
    "        \n",
    "        result = []\n",
    "        current = start\n",
    "        while current <= end:\n",
    "            result.append(current.strftime(\"%Y-%m-%d\"))\n",
    "            current += timedelta(days=1)\n",
    "        \n",
    "        return result\n",
    "    \n",
    "    except ValueError:\n",
    "        return []\n",
    "\n",
    "print(date_range('2022-01-01', '2022-01-03'))\n",
    "print(date_range('2022-01-05', '2022-01-03')) \n",
    "print(date_range('2022-13-01', '2022-01-03'))  "
   ]
  }
 ],
 "metadata": {
  "kernelspec": {
   "display_name": "Python 3",
   "language": "python",
   "name": "python3"
  },
  "language_info": {
   "codemirror_mode": {
    "name": "ipython",
    "version": 3
   },
   "file_extension": ".py",
   "mimetype": "text/x-python",
   "name": "python",
   "nbconvert_exporter": "python",
   "pygments_lexer": "ipython3",
   "version": "3.13.0"
  }
 },
 "nbformat": 4,
 "nbformat_minor": 5
}
