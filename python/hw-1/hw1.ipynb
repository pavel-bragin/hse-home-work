{
 "cells": [
  {
   "cell_type": "code",
   "execution_count": 1,
   "id": "265631bd",
   "metadata": {},
   "outputs": [],
   "source": [
    "import json\n",
    "import os\n",
    "import pandas as pd"
   ]
  },
  {
   "cell_type": "code",
   "execution_count": null,
   "id": "c6ab1e89",
   "metadata": {},
   "outputs": [
    {
     "name": "stdout",
     "output_type": "stream",
     "text": [
      "1840e0b9d4 'Продукты'\n",
      "4e4f90fcfb 'Электроника'\n"
     ]
    }
   ],
   "source": [
    "\n",
    "purchases = {}\n",
    "\n",
    "with open('purchase_log.txt', 'r', encoding='utf-8') as f:\n",
    "    for line in f:\n",
    "        line = line.strip()\n",
    "        if line:\n",
    "            try:\n",
    "                data = json.loads(line)\n",
    "                if data.get('user_id') != 'user_id':\n",
    "                    user_id = data['user_id']\n",
    "                    category = data['category']\n",
    "                    purchases[user_id] = category\n",
    "            except json.JSONDecodeError:\n",
    "                continue\n",
    "\n",
    "count = 0\n",
    "for user_id, category in purchases.items():\n",
    "    if count < 2:\n",
    "        print(f\"{user_id} '{category}'\")\n",
    "        count += 1\n",
    "    else:\n",
    "        break\n"
   ]
  },
  {
   "cell_type": "code",
   "execution_count": 7,
   "id": "9b5cce44",
   "metadata": {},
   "outputs": [
    {
     "name": "stdout",
     "output_type": "stream",
     "text": [
      "user_id,source,category\n",
      "1840e0b9d4,other,Продукты\n",
      "4e4f90fcfb,context,Электроника\n",
      "afea8d72fc,other,Электроника\n"
     ]
    }
   ],
   "source": [
    "import json\n",
    "\n",
    "\n",
    "purchases = {}\n",
    "\n",
    "with open('purchase_log.txt', 'r', encoding='utf-8') as f:\n",
    "    for line in f:\n",
    "        line = line.strip()\n",
    "        if line:\n",
    "            try:\n",
    "                data = json.loads(line)\n",
    "                \n",
    "                if data.get('user_id') != 'user_id':\n",
    "                    user_id = data['user_id']\n",
    "                    category = data['category']\n",
    "                    purchases[user_id] = category\n",
    "            except json.JSONDecodeError:\n",
    "                continue\n",
    "\n",
    "with open('visit_log.csv', 'r', encoding='utf-8') as f_in, \\\n",
    "     open('funnel.csv', 'w', encoding='utf-8') as f_out:\n",
    "    \n",
    "    header = f_in.readline().strip()\n",
    "    f_out.write('user_id,source,category\\n')\n",
    "\n",
    "    for line in f_in:\n",
    "        line = line.strip()\n",
    "        if line:\n",
    "            parts = line.split(',')\n",
    "            if len(parts) >= 2:\n",
    "                user_id = parts[0]\n",
    "                source = parts[1]\n",
    "                \n",
    "                if user_id in purchases:\n",
    "                    category = purchases[user_id]\n",
    "                    f_out.write(f'{user_id},{source},{category}\\n')\n",
    "\n",
    "\n",
    "\n",
    "with open('funnel.csv', 'r', encoding='utf-8') as f:\n",
    "    for i, line in enumerate(f):\n",
    "        if i < 4:\n",
    "            print(line.rstrip())\n"
   ]
  }
 ],
 "metadata": {
  "kernelspec": {
   "display_name": "Python 3",
   "language": "python",
   "name": "python3"
  },
  "language_info": {
   "codemirror_mode": {
    "name": "ipython",
    "version": 3
   },
   "file_extension": ".py",
   "mimetype": "text/x-python",
   "name": "python",
   "nbconvert_exporter": "python",
   "pygments_lexer": "ipython3",
   "version": "3.13.0"
  }
 },
 "nbformat": 4,
 "nbformat_minor": 5
}
