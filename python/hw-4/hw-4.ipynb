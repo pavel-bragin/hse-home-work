{
 "cells": [
  {
   "cell_type": "code",
   "execution_count": null,
   "id": "08b76895",
   "metadata": {},
   "outputs": [],
   "source": []
  },
  {
   "cell_type": "markdown",
   "id": "6906a354",
   "metadata": {},
   "source": [
    "ЗАДАНИЕ 1"
   ]
  },
  {
   "cell_type": "code",
   "execution_count": 3,
   "id": "cace0b16",
   "metadata": {},
   "outputs": [
    {
     "name": "stdout",
     "output_type": "stream",
     "text": [
      "Номер А222ВС валиден. Регион: 96.\n",
      "Номер не валиден.\n"
     ]
    }
   ],
   "source": [
    "import re\n",
    "\n",
    "def validate_car_number(car_id):\n",
    "    valid_letters = 'АВЕКМНОРСТУХ'\n",
    "    \n",
    "    pattern = f'^([{valid_letters}])(\\\\d{{3}})([{valid_letters}]{{2}})(\\\\d{{2,3}})$'\n",
    "    \n",
    "    match = re.match(pattern, car_id)\n",
    "    \n",
    "    if match:\n",
    "        letter1 = match.group(1)\n",
    "        digits = match.group(2)\n",
    "        letters2 = match.group(3)\n",
    "        region = match.group(4)\n",
    "        \n",
    "        number = f\"{letter1}{digits}{letters2}\"\n",
    "        return f\"Номер {number} валиден. Регион: {region}.\"\n",
    "    else:\n",
    "        return \"Номер не валиден.\"\n",
    "\n",
    "\n",
    "# Примеры работы программы\n",
    "car_id1 = 'А222ВС96'\n",
    "print(validate_car_number(car_id1))\n",
    "\n",
    "car_id2 = 'АБ22ВВ193'\n",
    "print(validate_car_number(car_id2))\n"
   ]
  },
  {
   "cell_type": "markdown",
   "id": "418fd1f5",
   "metadata": {},
   "source": [
    "ЗАДАНИЕ 2"
   ]
  },
  {
   "cell_type": "code",
   "execution_count": 4,
   "id": "d42ad57d",
   "metadata": {},
   "outputs": [
    {
     "name": "stdout",
     "output_type": "stream",
     "text": [
      "Напишите функцию, которая будет удалять все последовательные повторы слов из заданной строки при помощи регулярных выражений\n"
     ]
    }
   ],
   "source": [
    "import re\n",
    "\n",
    "def remove_consecutive_duplicates(text):\n",
    "    pattern = r'\\b(\\w+)(\\s+\\1)+\\b'\n",
    "    result = re.sub(pattern, r'\\1', text)\n",
    "    return result\n",
    "\n",
    "\n",
    "some_string = 'Напишите функцию функцию, которая будет будет будет будет удалять все все все все последовательные повторы слов из из из из заданной строки строки при помощи регулярных выражений'\n",
    "\n",
    "print(remove_consecutive_duplicates(some_string))\n"
   ]
  }
 ],
 "metadata": {
  "kernelspec": {
   "display_name": "Python 3",
   "language": "python",
   "name": "python3"
  },
  "language_info": {
   "codemirror_mode": {
    "name": "ipython",
    "version": 3
   },
   "file_extension": ".py",
   "mimetype": "text/x-python",
   "name": "python",
   "nbconvert_exporter": "python",
   "pygments_lexer": "ipython3",
   "version": "3.13.0"
  }
 },
 "nbformat": 4,
 "nbformat_minor": 5
}
